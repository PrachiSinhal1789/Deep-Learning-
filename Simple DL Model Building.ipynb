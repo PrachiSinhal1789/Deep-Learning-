{
 "cells": [
  {
   "cell_type": "code",
   "execution_count": 24,
   "id": "b69e1235",
   "metadata": {},
   "outputs": [],
   "source": [
    "import pandas as pd\n",
    "import numpy as np\n",
    "import tensorflow as tf\n",
    "from sklearn.preprocessing import OrdinalEncoder\n",
    "from sklearn.model_selection import train_test_split\n",
    "import matplotlib.pyplot as plt\n",
    "\n",
    "from tensorflow.keras.models import Sequential\n",
    "from tensorflow.keras.layers import Dense"
   ]
  },
  {
   "cell_type": "code",
   "execution_count": 2,
   "id": "683175b4",
   "metadata": {},
   "outputs": [],
   "source": [
    "df=pd.read_excel('Xiaomi Raw Data.xlsx')"
   ]
  },
  {
   "cell_type": "code",
   "execution_count": 3,
   "id": "a5e0a325",
   "metadata": {},
   "outputs": [
    {
     "data": {
      "text/html": [
       "<div>\n",
       "<style scoped>\n",
       "    .dataframe tbody tr th:only-of-type {\n",
       "        vertical-align: middle;\n",
       "    }\n",
       "\n",
       "    .dataframe tbody tr th {\n",
       "        vertical-align: top;\n",
       "    }\n",
       "\n",
       "    .dataframe thead th {\n",
       "        text-align: right;\n",
       "    }\n",
       "</style>\n",
       "<table border=\"1\" class=\"dataframe\">\n",
       "  <thead>\n",
       "    <tr style=\"text-align: right;\">\n",
       "      <th></th>\n",
       "      <th>Customer</th>\n",
       "      <th>Day</th>\n",
       "      <th>Browser</th>\n",
       "      <th>No. of Clicks</th>\n",
       "      <th>Pages Viewed</th>\n",
       "      <th>Time (min)</th>\n",
       "      <th>Amount Spent (Rs.)</th>\n",
       "    </tr>\n",
       "  </thead>\n",
       "  <tbody>\n",
       "    <tr>\n",
       "      <th>0</th>\n",
       "      <td>1</td>\n",
       "      <td>Monday</td>\n",
       "      <td>Chrome</td>\n",
       "      <td>13</td>\n",
       "      <td>4</td>\n",
       "      <td>8.5</td>\n",
       "      <td>2668.0</td>\n",
       "    </tr>\n",
       "    <tr>\n",
       "      <th>1</th>\n",
       "      <td>2</td>\n",
       "      <td>Saturday</td>\n",
       "      <td>Chrome</td>\n",
       "      <td>15</td>\n",
       "      <td>5</td>\n",
       "      <td>16.9</td>\n",
       "      <td>3469.0</td>\n",
       "    </tr>\n",
       "    <tr>\n",
       "      <th>2</th>\n",
       "      <td>3</td>\n",
       "      <td>Monday</td>\n",
       "      <td>Internet Explorer</td>\n",
       "      <td>20</td>\n",
       "      <td>6</td>\n",
       "      <td>7.3</td>\n",
       "      <td>5215.0</td>\n",
       "    </tr>\n",
       "    <tr>\n",
       "      <th>3</th>\n",
       "      <td>4</td>\n",
       "      <td>Monday</td>\n",
       "      <td>Chrome</td>\n",
       "      <td>42</td>\n",
       "      <td>6</td>\n",
       "      <td>30.1</td>\n",
       "      <td>10423.0</td>\n",
       "    </tr>\n",
       "    <tr>\n",
       "      <th>4</th>\n",
       "      <td>5</td>\n",
       "      <td>Saturday</td>\n",
       "      <td>Internet Explorer</td>\n",
       "      <td>20</td>\n",
       "      <td>6</td>\n",
       "      <td>13.3</td>\n",
       "      <td>5404.0</td>\n",
       "    </tr>\n",
       "  </tbody>\n",
       "</table>\n",
       "</div>"
      ],
      "text/plain": [
       "   Customer       Day            Browser  No. of Clicks  Pages Viewed  \\\n",
       "0         1    Monday             Chrome             13             4   \n",
       "1         2  Saturday             Chrome             15             5   \n",
       "2         3    Monday  Internet Explorer             20             6   \n",
       "3         4    Monday             Chrome             42             6   \n",
       "4         5  Saturday  Internet Explorer             20             6   \n",
       "\n",
       "   Time (min)  Amount Spent (Rs.)  \n",
       "0         8.5              2668.0  \n",
       "1        16.9              3469.0  \n",
       "2         7.3              5215.0  \n",
       "3        30.1             10423.0  \n",
       "4        13.3              5404.0  "
      ]
     },
     "execution_count": 3,
     "metadata": {},
     "output_type": "execute_result"
    }
   ],
   "source": [
    "df.head()"
   ]
  },
  {
   "cell_type": "code",
   "execution_count": 5,
   "id": "ab2e9cfe",
   "metadata": {},
   "outputs": [],
   "source": [
    "oe=OrdinalEncoder()"
   ]
  },
  {
   "cell_type": "code",
   "execution_count": 9,
   "id": "afbac5bf",
   "metadata": {},
   "outputs": [],
   "source": [
    "df['Day']=oe.fit_transform(df[['Day']])\n",
    "df['Browser']=oe.fit_transform(df[['Browser']])"
   ]
  },
  {
   "cell_type": "code",
   "execution_count": 10,
   "id": "fa825c8c",
   "metadata": {},
   "outputs": [
    {
     "data": {
      "text/html": [
       "<div>\n",
       "<style scoped>\n",
       "    .dataframe tbody tr th:only-of-type {\n",
       "        vertical-align: middle;\n",
       "    }\n",
       "\n",
       "    .dataframe tbody tr th {\n",
       "        vertical-align: top;\n",
       "    }\n",
       "\n",
       "    .dataframe thead th {\n",
       "        text-align: right;\n",
       "    }\n",
       "</style>\n",
       "<table border=\"1\" class=\"dataframe\">\n",
       "  <thead>\n",
       "    <tr style=\"text-align: right;\">\n",
       "      <th></th>\n",
       "      <th>Customer</th>\n",
       "      <th>Day</th>\n",
       "      <th>Browser</th>\n",
       "      <th>No. of Clicks</th>\n",
       "      <th>Pages Viewed</th>\n",
       "      <th>Time (min)</th>\n",
       "      <th>Amount Spent (Rs.)</th>\n",
       "    </tr>\n",
       "  </thead>\n",
       "  <tbody>\n",
       "    <tr>\n",
       "      <th>0</th>\n",
       "      <td>1</td>\n",
       "      <td>1.0</td>\n",
       "      <td>0.0</td>\n",
       "      <td>13</td>\n",
       "      <td>4</td>\n",
       "      <td>8.5</td>\n",
       "      <td>2668.0</td>\n",
       "    </tr>\n",
       "    <tr>\n",
       "      <th>1</th>\n",
       "      <td>2</td>\n",
       "      <td>2.0</td>\n",
       "      <td>0.0</td>\n",
       "      <td>15</td>\n",
       "      <td>5</td>\n",
       "      <td>16.9</td>\n",
       "      <td>3469.0</td>\n",
       "    </tr>\n",
       "    <tr>\n",
       "      <th>2</th>\n",
       "      <td>3</td>\n",
       "      <td>1.0</td>\n",
       "      <td>2.0</td>\n",
       "      <td>20</td>\n",
       "      <td>6</td>\n",
       "      <td>7.3</td>\n",
       "      <td>5215.0</td>\n",
       "    </tr>\n",
       "    <tr>\n",
       "      <th>3</th>\n",
       "      <td>4</td>\n",
       "      <td>1.0</td>\n",
       "      <td>0.0</td>\n",
       "      <td>42</td>\n",
       "      <td>6</td>\n",
       "      <td>30.1</td>\n",
       "      <td>10423.0</td>\n",
       "    </tr>\n",
       "    <tr>\n",
       "      <th>4</th>\n",
       "      <td>5</td>\n",
       "      <td>2.0</td>\n",
       "      <td>2.0</td>\n",
       "      <td>20</td>\n",
       "      <td>6</td>\n",
       "      <td>13.3</td>\n",
       "      <td>5404.0</td>\n",
       "    </tr>\n",
       "  </tbody>\n",
       "</table>\n",
       "</div>"
      ],
      "text/plain": [
       "   Customer  Day  Browser  No. of Clicks  Pages Viewed  Time (min)  \\\n",
       "0         1  1.0      0.0             13             4         8.5   \n",
       "1         2  2.0      0.0             15             5        16.9   \n",
       "2         3  1.0      2.0             20             6         7.3   \n",
       "3         4  1.0      0.0             42             6        30.1   \n",
       "4         5  2.0      2.0             20             6        13.3   \n",
       "\n",
       "   Amount Spent (Rs.)  \n",
       "0              2668.0  \n",
       "1              3469.0  \n",
       "2              5215.0  \n",
       "3             10423.0  \n",
       "4              5404.0  "
      ]
     },
     "execution_count": 10,
     "metadata": {},
     "output_type": "execute_result"
    }
   ],
   "source": [
    "df.head()"
   ]
  },
  {
   "cell_type": "code",
   "execution_count": 11,
   "id": "1ea5a1c6",
   "metadata": {
    "scrolled": true
   },
   "outputs": [
    {
     "name": "stdout",
     "output_type": "stream",
     "text": [
      "<class 'pandas.core.frame.DataFrame'>\n",
      "RangeIndex: 43200 entries, 0 to 43199\n",
      "Data columns (total 7 columns):\n",
      " #   Column              Non-Null Count  Dtype  \n",
      "---  ------              --------------  -----  \n",
      " 0   Customer            43200 non-null  int64  \n",
      " 1   Day                 43200 non-null  float64\n",
      " 2   Browser             43200 non-null  float64\n",
      " 3   No. of Clicks       43200 non-null  int64  \n",
      " 4   Pages Viewed        43200 non-null  int64  \n",
      " 5   Time (min)          43200 non-null  float64\n",
      " 6   Amount Spent (Rs.)  43200 non-null  float64\n",
      "dtypes: float64(4), int64(3)\n",
      "memory usage: 2.3 MB\n"
     ]
    }
   ],
   "source": [
    "df.info()"
   ]
  },
  {
   "cell_type": "code",
   "execution_count": 12,
   "id": "22824a17",
   "metadata": {},
   "outputs": [],
   "source": [
    "df.drop('Customer',axis=1,inplace=True)"
   ]
  },
  {
   "cell_type": "code",
   "execution_count": 16,
   "id": "63b7adb6",
   "metadata": {},
   "outputs": [],
   "source": [
    "X=df.drop('Amount Spent (Rs.)',axis=1)\n",
    "y=df['Amount Spent (Rs.)']"
   ]
  },
  {
   "cell_type": "code",
   "execution_count": 17,
   "id": "ae0ce2d4",
   "metadata": {},
   "outputs": [],
   "source": [
    "X_train,X_test,y_train,y_test=train_test_split(X,y,test_size=0.3,random_state=1)"
   ]
  },
  {
   "cell_type": "markdown",
   "id": "f3304e80",
   "metadata": {},
   "source": [
    "## Building a simple DL model"
   ]
  },
  {
   "cell_type": "code",
   "execution_count": 20,
   "id": "7687e37c",
   "metadata": {},
   "outputs": [],
   "source": [
    "model=Sequential([\n",
    "    Dense(50,activation='relu',input_shape=(X_train.shape[1], )),\n",
    "    Dense(100,activation='relu'),\n",
    "    Dense(1,activation='relu')])  "
   ]
  },
  {
   "cell_type": "code",
   "execution_count": 21,
   "id": "7c97258b",
   "metadata": {},
   "outputs": [
    {
     "name": "stdout",
     "output_type": "stream",
     "text": [
      "Model: \"sequential\"\n",
      "_________________________________________________________________\n",
      " Layer (type)                Output Shape              Param #   \n",
      "=================================================================\n",
      " dense_1 (Dense)             (None, 50)                300       \n",
      "                                                                 \n",
      " dense_2 (Dense)             (None, 100)               5100      \n",
      "                                                                 \n",
      " dense_3 (Dense)             (None, 1)                 101       \n",
      "                                                                 \n",
      "=================================================================\n",
      "Total params: 5,501\n",
      "Trainable params: 5,501\n",
      "Non-trainable params: 0\n",
      "_________________________________________________________________\n"
     ]
    }
   ],
   "source": [
    "model.summary()"
   ]
  },
  {
   "cell_type": "code",
   "execution_count": 22,
   "id": "63fc0b44",
   "metadata": {},
   "outputs": [],
   "source": [
    "model.compile(optimizer='Adam',loss='mse',metrics=['mse'])"
   ]
  },
  {
   "cell_type": "code",
   "execution_count": 23,
   "id": "31c9ea75",
   "metadata": {},
   "outputs": [
    {
     "name": "stdout",
     "output_type": "stream",
     "text": [
      "Epoch 1/10\n",
      "61/61 [==============================] - 3s 6ms/step - loss: 56659748.0000 - mse: 56659748.0000 - val_loss: 56682184.0000 - val_mse: 56682184.0000\n",
      "Epoch 2/10\n",
      "61/61 [==============================] - 0s 3ms/step - loss: 56659748.0000 - mse: 56659748.0000 - val_loss: 56682184.0000 - val_mse: 56682184.0000\n",
      "Epoch 3/10\n",
      "61/61 [==============================] - 0s 5ms/step - loss: 56659744.0000 - mse: 56659744.0000 - val_loss: 56682184.0000 - val_mse: 56682184.0000\n",
      "Epoch 4/10\n",
      "61/61 [==============================] - 0s 5ms/step - loss: 56659740.0000 - mse: 56659740.0000 - val_loss: 56682184.0000 - val_mse: 56682184.0000\n",
      "Epoch 5/10\n",
      "61/61 [==============================] - 0s 5ms/step - loss: 56659744.0000 - mse: 56659744.0000 - val_loss: 56682184.0000 - val_mse: 56682184.0000\n",
      "Epoch 6/10\n",
      "61/61 [==============================] - 0s 3ms/step - loss: 56659748.0000 - mse: 56659748.0000 - val_loss: 56682184.0000 - val_mse: 56682184.0000\n",
      "Epoch 7/10\n",
      "61/61 [==============================] - 0s 4ms/step - loss: 56659744.0000 - mse: 56659744.0000 - val_loss: 56682184.0000 - val_mse: 56682184.0000\n",
      "Epoch 8/10\n",
      "61/61 [==============================] - 0s 3ms/step - loss: 56659744.0000 - mse: 56659744.0000 - val_loss: 56682184.0000 - val_mse: 56682184.0000\n",
      "Epoch 9/10\n",
      "61/61 [==============================] - 0s 3ms/step - loss: 56659744.0000 - mse: 56659744.0000 - val_loss: 56682184.0000 - val_mse: 56682184.0000\n",
      "Epoch 10/10\n",
      "61/61 [==============================] - 0s 2ms/step - loss: 56659760.0000 - mse: 56659760.0000 - val_loss: 56682184.0000 - val_mse: 56682184.0000\n"
     ]
    }
   ],
   "source": [
    "history=model.fit(X_train,y_train,batch_size=500,epochs=10,validation_data=(X_test,y_test))"
   ]
  },
  {
   "cell_type": "markdown",
   "id": "bf916559",
   "metadata": {},
   "source": [
    "### Accuracy plot"
   ]
  },
  {
   "cell_type": "code",
   "execution_count": 25,
   "id": "13fdced7",
   "metadata": {},
   "outputs": [
    {
     "data": {
      "text/plain": [
       "<matplotlib.legend.Legend at 0x1867bd77c40>"
      ]
     },
     "execution_count": 25,
     "metadata": {},
     "output_type": "execute_result"
    },
    {
     "data": {
      "image/png": "[encoded data removed]",
      "text/plain": [
       "<Figure size 432x288 with 1 Axes>"
      ]
     },
     "metadata": {
      "needs_background": "light"
     },
     "output_type": "display_data"
    }
   ],
   "source": [
    "plt.plot(history.history['mse'])\n",
    "plt.plot(history.history['val_mse'])\n",
    "plt.xlabel('epochs')\n",
    "plt.ylabel('mse')\n",
    "plt.title('accuracy plot')\n",
    "plt.legend(['training','testing'])"
   ]
  },
  {
   "cell_type": "code",
   "execution_count": 26,
   "id": "f072cb09",
   "metadata": {},
   "outputs": [
    {
     "data": {
      "text/plain": [
       "<matplotlib.legend.Legend at 0x1867c454490>"
      ]
     },
     "execution_count": 26,
     "metadata": {},
     "output_type": "execute_result"
    },
    {
     "data": {
      "image/png": "[encoded data removed]",
      "text/plain": [
       "<Figure size 432x288 with 1 Axes>"
      ]
     },
     "metadata": {
      "needs_background": "light"
     },
     "output_type": "display_data"
    }
   ],
   "source": [
    "plt.plot(history.history['loss'])\n",
    "plt.plot(history.history['val_loss'])\n",
    "plt.xlabel('epochs')\n",
    "plt.ylabel('loss')\n",
    "plt.title('loss plot')\n",
    "plt.legend(['training','testing'])"
   ]
  },
  {
   "cell_type": "code",
   "execution_count": null,
   "id": "c8c693a8",
   "metadata": {},
   "outputs": [],
   "source": []
  }
 ],
 "metadata": {
  "kernelspec": {
   "display_name": "Python 3 (ipykernel)",
   "language": "python",
   "name": "python3"
  },
  "language_info": {
   "codemirror_mode": {
    "name": "ipython",
    "version": 3
   },
   "file_extension": ".py",
   "mimetype": "text/x-python",
   "name": "python",
   "nbconvert_exporter": "python",
   "pygments_lexer": "ipython3",
   "version": "3.9.12"
  }
 },
 "nbformat": 4,
 "nbformat_minor": 5
}
