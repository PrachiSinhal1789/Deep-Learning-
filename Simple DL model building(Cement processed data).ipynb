{
 "cells": [
  {
   "cell_type": "code",
   "execution_count": 1,
   "id": "f6fd62ef",
   "metadata": {},
   "outputs": [],
   "source": [
    "import pandas as pd\n",
    "import numpy as np\n",
    "import tensorflow as tf\n",
    "import matplotlib.pyplot as plt\n",
    "from sklearn.model_selection import train_test_split\n",
    "from sklearn.metrics import r2_score\n",
    "\n",
    "from tensorflow.keras.models import Sequential\n",
    "from tensorflow.keras.layers import Dense"
   ]
  },
  {
   "cell_type": "code",
   "execution_count": 2,
   "id": "956e688e",
   "metadata": {},
   "outputs": [],
   "source": [
    "df=pd.read_csv('Processed_data.csv',index_col=0)"
   ]
  },
  {
   "cell_type": "code",
   "execution_count": 3,
   "id": "24c5b91e",
   "metadata": {},
   "outputs": [
    {
     "data": {
      "text/html": [
       "<div>\n",
       "<style scoped>\n",
       "    .dataframe tbody tr th:only-of-type {\n",
       "        vertical-align: middle;\n",
       "    }\n",
       "\n",
       "    .dataframe tbody tr th {\n",
       "        vertical-align: top;\n",
       "    }\n",
       "\n",
       "    .dataframe thead th {\n",
       "        text-align: right;\n",
       "    }\n",
       "</style>\n",
       "<table border=\"1\" class=\"dataframe\">\n",
       "  <thead>\n",
       "    <tr style=\"text-align: right;\">\n",
       "      <th></th>\n",
       "      <th>cement</th>\n",
       "      <th>slag</th>\n",
       "      <th>ash</th>\n",
       "      <th>water</th>\n",
       "      <th>superplastic</th>\n",
       "      <th>coarseagg</th>\n",
       "      <th>fineagg</th>\n",
       "      <th>age</th>\n",
       "      <th>strength</th>\n",
       "    </tr>\n",
       "  </thead>\n",
       "  <tbody>\n",
       "    <tr>\n",
       "      <th>0</th>\n",
       "      <td>141.3</td>\n",
       "      <td>212.0</td>\n",
       "      <td>0.0</td>\n",
       "      <td>203.5</td>\n",
       "      <td>0.0</td>\n",
       "      <td>971.8</td>\n",
       "      <td>748.5</td>\n",
       "      <td>28</td>\n",
       "      <td>29.89</td>\n",
       "    </tr>\n",
       "    <tr>\n",
       "      <th>1</th>\n",
       "      <td>168.9</td>\n",
       "      <td>42.2</td>\n",
       "      <td>124.3</td>\n",
       "      <td>158.3</td>\n",
       "      <td>10.8</td>\n",
       "      <td>1080.8</td>\n",
       "      <td>796.2</td>\n",
       "      <td>14</td>\n",
       "      <td>23.51</td>\n",
       "    </tr>\n",
       "    <tr>\n",
       "      <th>2</th>\n",
       "      <td>250.0</td>\n",
       "      <td>0.0</td>\n",
       "      <td>95.7</td>\n",
       "      <td>187.4</td>\n",
       "      <td>5.5</td>\n",
       "      <td>956.9</td>\n",
       "      <td>861.2</td>\n",
       "      <td>28</td>\n",
       "      <td>29.22</td>\n",
       "    </tr>\n",
       "    <tr>\n",
       "      <th>3</th>\n",
       "      <td>266.0</td>\n",
       "      <td>114.0</td>\n",
       "      <td>0.0</td>\n",
       "      <td>228.0</td>\n",
       "      <td>0.0</td>\n",
       "      <td>932.0</td>\n",
       "      <td>670.0</td>\n",
       "      <td>28</td>\n",
       "      <td>45.85</td>\n",
       "    </tr>\n",
       "    <tr>\n",
       "      <th>4</th>\n",
       "      <td>154.8</td>\n",
       "      <td>183.4</td>\n",
       "      <td>0.0</td>\n",
       "      <td>193.3</td>\n",
       "      <td>9.1</td>\n",
       "      <td>1047.4</td>\n",
       "      <td>696.7</td>\n",
       "      <td>28</td>\n",
       "      <td>18.29</td>\n",
       "    </tr>\n",
       "  </tbody>\n",
       "</table>\n",
       "</div>"
      ],
      "text/plain": [
       "   cement   slag    ash  water  superplastic  coarseagg  fineagg  age  \\\n",
       "0   141.3  212.0    0.0  203.5           0.0      971.8    748.5   28   \n",
       "1   168.9   42.2  124.3  158.3          10.8     1080.8    796.2   14   \n",
       "2   250.0    0.0   95.7  187.4           5.5      956.9    861.2   28   \n",
       "3   266.0  114.0    0.0  228.0           0.0      932.0    670.0   28   \n",
       "4   154.8  183.4    0.0  193.3           9.1     1047.4    696.7   28   \n",
       "\n",
       "   strength  \n",
       "0     29.89  \n",
       "1     23.51  \n",
       "2     29.22  \n",
       "3     45.85  \n",
       "4     18.29  "
      ]
     },
     "execution_count": 3,
     "metadata": {},
     "output_type": "execute_result"
    }
   ],
   "source": [
    "df.head()"
   ]
  },
  {
   "cell_type": "code",
   "execution_count": 4,
   "id": "b66a6792",
   "metadata": {},
   "outputs": [],
   "source": [
    "X=df.drop('strength',axis=1)\n",
    "y=df['strength']"
   ]
  },
  {
   "cell_type": "code",
   "execution_count": 5,
   "id": "b62ecc6e",
   "metadata": {},
   "outputs": [],
   "source": [
    "X_train,X_test,y_train,y_test=train_test_split(X,y,random_state=1,test_size=0.3)"
   ]
  },
  {
   "cell_type": "code",
   "execution_count": 6,
   "id": "0aa13096",
   "metadata": {},
   "outputs": [],
   "source": [
    "model=Sequential([\n",
    "    Dense(5000,activation='relu',input_shape=(X_train.shape[1],)),\n",
    "    Dense(1000,activation='relu'),\n",
    "    Dense(1000,activation='relu'),\n",
    "    Dense(500,activation='tanh'),\n",
    "    Dense(1,activation='relu')])"
   ]
  },
  {
   "cell_type": "code",
   "execution_count": 7,
   "id": "4ce2ccd0",
   "metadata": {},
   "outputs": [
    {
     "name": "stdout",
     "output_type": "stream",
     "text": [
      "Model: \"sequential\"\n",
      "_________________________________________________________________\n",
      " Layer (type)                Output Shape              Param #   \n",
      "=================================================================\n",
      " dense (Dense)               (None, 5000)              45000     \n",
      "                                                                 \n",
      " dense_1 (Dense)             (None, 1000)              5001000   \n",
      "                                                                 \n",
      " dense_2 (Dense)             (None, 1000)              1001000   \n",
      "                                                                 \n",
      " dense_3 (Dense)             (None, 500)               500500    \n",
      "                                                                 \n",
      " dense_4 (Dense)             (None, 1)                 501       \n",
      "                                                                 \n",
      "=================================================================\n",
      "Total params: 6,548,001\n",
      "Trainable params: 6,548,001\n",
      "Non-trainable params: 0\n",
      "_________________________________________________________________\n"
     ]
    }
   ],
   "source": [
    "model.summary()"
   ]
  },
  {
   "cell_type": "code",
   "execution_count": 8,
   "id": "7d8e0a2f",
   "metadata": {},
   "outputs": [],
   "source": [
    "model.compile(optimizer='Adam',loss='mse',metrics=['mse'])"
   ]
  },
  {
   "cell_type": "code",
   "execution_count": 9,
   "id": "b326d66f",
   "metadata": {},
   "outputs": [
    {
     "name": "stdout",
     "output_type": "stream",
     "text": [
      "Epoch 1/30\n",
      "8/8 [==============================] - 1s 88ms/step - loss: 752.8855 - mse: 752.8855 - val_loss: 518.1990 - val_mse: 518.1990\n",
      "Epoch 2/30\n",
      "8/8 [==============================] - 0s 57ms/step - loss: 455.9912 - mse: 455.9912 - val_loss: 429.3264 - val_mse: 429.3264\n",
      "Epoch 3/30\n",
      "8/8 [==============================] - 0s 56ms/step - loss: 374.5527 - mse: 374.5527 - val_loss: 359.0466 - val_mse: 359.0466\n",
      "Epoch 4/30\n",
      "8/8 [==============================] - 0s 54ms/step - loss: 318.1571 - mse: 318.1571 - val_loss: 317.3711 - val_mse: 317.3711\n",
      "Epoch 5/30\n",
      "8/8 [==============================] - 1s 67ms/step - loss: 286.0670 - mse: 286.0670 - val_loss: 297.0671 - val_mse: 297.0671\n",
      "Epoch 6/30\n",
      "8/8 [==============================] - 1s 76ms/step - loss: 272.1331 - mse: 272.1331 - val_loss: 287.9056 - val_mse: 287.9056\n",
      "Epoch 7/30\n",
      "8/8 [==============================] - 0s 54ms/step - loss: 266.5294 - mse: 266.5294 - val_loss: 284.5991 - val_mse: 284.5991\n",
      "Epoch 8/30\n",
      "8/8 [==============================] - 0s 54ms/step - loss: 265.2571 - mse: 265.2571 - val_loss: 284.0214 - val_mse: 284.0214\n",
      "Epoch 9/30\n",
      "8/8 [==============================] - 0s 63ms/step - loss: 265.2309 - mse: 265.2309 - val_loss: 284.0003 - val_mse: 284.0003\n",
      "Epoch 10/30\n",
      "8/8 [==============================] - 1s 68ms/step - loss: 265.2558 - mse: 265.2558 - val_loss: 283.9836 - val_mse: 283.9836\n",
      "Epoch 11/30\n",
      "8/8 [==============================] - 1s 65ms/step - loss: 265.2097 - mse: 265.2097 - val_loss: 283.9849 - val_mse: 283.9849\n",
      "Epoch 12/30\n",
      "8/8 [==============================] - 1s 78ms/step - loss: 265.2150 - mse: 265.2150 - val_loss: 283.9839 - val_mse: 283.9839\n",
      "Epoch 13/30\n",
      "8/8 [==============================] - 1s 71ms/step - loss: 265.2955 - mse: 265.2955 - val_loss: 283.9971 - val_mse: 283.9971\n",
      "Epoch 14/30\n",
      "8/8 [==============================] - 0s 53ms/step - loss: 265.1801 - mse: 265.1801 - val_loss: 283.9880 - val_mse: 283.9880\n",
      "Epoch 15/30\n",
      "8/8 [==============================] - 0s 54ms/step - loss: 265.1805 - mse: 265.1806 - val_loss: 283.9837 - val_mse: 283.9837\n",
      "Epoch 16/30\n",
      "8/8 [==============================] - 0s 54ms/step - loss: 265.3427 - mse: 265.3427 - val_loss: 283.9958 - val_mse: 283.9958\n",
      "Epoch 17/30\n",
      "8/8 [==============================] - 0s 56ms/step - loss: 265.2898 - mse: 265.2898 - val_loss: 283.9840 - val_mse: 283.9840\n",
      "Epoch 18/30\n",
      "8/8 [==============================] - 0s 56ms/step - loss: 265.2141 - mse: 265.2141 - val_loss: 283.9838 - val_mse: 283.9838\n",
      "Epoch 19/30\n",
      "8/8 [==============================] - 0s 54ms/step - loss: 265.2636 - mse: 265.2636 - val_loss: 283.9900 - val_mse: 283.9900\n",
      "Epoch 20/30\n",
      "8/8 [==============================] - 0s 53ms/step - loss: 265.1717 - mse: 265.1717 - val_loss: 283.9836 - val_mse: 283.9836\n",
      "Epoch 21/30\n",
      "8/8 [==============================] - 0s 54ms/step - loss: 265.3382 - mse: 265.3382 - val_loss: 284.0495 - val_mse: 284.0495\n",
      "Epoch 22/30\n",
      "8/8 [==============================] - 0s 55ms/step - loss: 265.3554 - mse: 265.3554 - val_loss: 284.0002 - val_mse: 284.0002\n",
      "Epoch 23/30\n",
      "8/8 [==============================] - 0s 56ms/step - loss: 265.2607 - mse: 265.2607 - val_loss: 283.9838 - val_mse: 283.9838\n",
      "Epoch 24/30\n",
      "8/8 [==============================] - 0s 54ms/step - loss: 265.1934 - mse: 265.1934 - val_loss: 284.0045 - val_mse: 284.0045\n",
      "Epoch 25/30\n",
      "8/8 [==============================] - 0s 53ms/step - loss: 265.3220 - mse: 265.3220 - val_loss: 284.1535 - val_mse: 284.1535\n",
      "Epoch 26/30\n",
      "8/8 [==============================] - 0s 52ms/step - loss: 265.1692 - mse: 265.1692 - val_loss: 284.2357 - val_mse: 284.2357\n",
      "Epoch 27/30\n",
      "8/8 [==============================] - 0s 55ms/step - loss: 265.2297 - mse: 265.2297 - val_loss: 284.2794 - val_mse: 284.2794\n",
      "Epoch 28/30\n",
      "8/8 [==============================] - 0s 52ms/step - loss: 265.3600 - mse: 265.3600 - val_loss: 284.4934 - val_mse: 284.4934\n",
      "Epoch 29/30\n",
      "8/8 [==============================] - 0s 52ms/step - loss: 265.4306 - mse: 265.4306 - val_loss: 284.4943 - val_mse: 284.4943\n",
      "Epoch 30/30\n",
      "8/8 [==============================] - 0s 52ms/step - loss: 265.1372 - mse: 265.1372 - val_loss: 284.1119 - val_mse: 284.1119\n"
     ]
    }
   ],
   "source": [
    "history=model.fit(X_train,y_train,batch_size=100,epochs=30,validation_data=(X_test,y_test))"
   ]
  },
  {
   "cell_type": "code",
   "execution_count": 10,
   "id": "2b7f2a64",
   "metadata": {},
   "outputs": [
    {
     "data": {
      "text/plain": [
       "<matplotlib.legend.Legend at 0x17b4bcce7f0>"
      ]
     },
     "execution_count": 10,
     "metadata": {},
     "output_type": "execute_result"
    },
    {
     "data": {
      "image/png": "[encoded data removed]",
      "text/plain": [
       "<Figure size 432x288 with 1 Axes>"
      ]
     },
     "metadata": {
      "needs_background": "light"
     },
     "output_type": "display_data"
    }
   ],
   "source": [
    "plt.plot(history.history['loss'])\n",
    "plt.plot(history.history['val_loss'])\n",
    "plt.xlabel('epochs')\n",
    "plt.ylabel('loss')\n",
    "plt.title('Loss plot')\n",
    "plt.legend(['Training','Testing'])"
   ]
  },
  {
   "cell_type": "code",
   "execution_count": 11,
   "id": "abc3176a",
   "metadata": {},
   "outputs": [
    {
     "data": {
      "text/plain": [
       "<matplotlib.legend.Legend at 0x17b4bd16100>"
      ]
     },
     "execution_count": 11,
     "metadata": {},
     "output_type": "execute_result"
    },
    {
     "data": {
      "image/png": "[encoded data removed]",
      "text/plain": [
       "<Figure size 432x288 with 1 Axes>"
      ]
     },
     "metadata": {
      "needs_background": "light"
     },
     "output_type": "display_data"
    }
   ],
   "source": [
    "plt.plot(history.history['mse'])\n",
    "plt.plot(history.history['val_mse'])\n",
    "plt.xlabel('epochs')\n",
    "plt.ylabel('mse')\n",
    "plt.title('accuracy plot')\n",
    "plt.legend(['Training','Testing'])"
   ]
  },
  {
   "cell_type": "code",
   "execution_count": null,
   "id": "358da90e",
   "metadata": {},
   "outputs": [],
   "source": []
  }
 ],
 "metadata": {
  "kernelspec": {
   "display_name": "Python 3 (ipykernel)",
   "language": "python",
   "name": "python3"
  },
  "language_info": {
   "codemirror_mode": {
    "name": "ipython",
    "version": 3
   },
   "file_extension": ".py",
   "mimetype": "text/x-python",
   "name": "python",
   "nbconvert_exporter": "python",
   "pygments_lexer": "ipython3",
   "version": "3.9.12"
  }
 },
 "nbformat": 4,
 "nbformat_minor": 5
}
