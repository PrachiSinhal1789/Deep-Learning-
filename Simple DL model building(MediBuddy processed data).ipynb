{
 "cells": [
  {
   "cell_type": "code",
   "execution_count": 1,
   "id": "5d31f36a",
   "metadata": {},
   "outputs": [],
   "source": [
    "import pandas as pd\n",
    "import numpy as np\n",
    "import tensorflow as tf\n",
    "import matplotlib.pyplot as plt\n",
    "from sklearn.model_selection import train_test_split\n",
    "\n",
    "from tensorflow.keras.models import Sequential\n",
    "from tensorflow.keras.layers import Dense"
   ]
  },
  {
   "cell_type": "code",
   "execution_count": 2,
   "id": "d22e46aa",
   "metadata": {},
   "outputs": [],
   "source": [
    "df=pd.read_csv('MediProcessed_data.csv',index_col=0)"
   ]
  },
  {
   "cell_type": "code",
   "execution_count": 3,
   "id": "1bcee939",
   "metadata": {},
   "outputs": [
    {
     "data": {
      "text/html": [
       "<div>\n",
       "<style scoped>\n",
       "    .dataframe tbody tr th:only-of-type {\n",
       "        vertical-align: middle;\n",
       "    }\n",
       "\n",
       "    .dataframe tbody tr th {\n",
       "        vertical-align: top;\n",
       "    }\n",
       "\n",
       "    .dataframe thead th {\n",
       "        text-align: right;\n",
       "    }\n",
       "</style>\n",
       "<table border=\"1\" class=\"dataframe\">\n",
       "  <thead>\n",
       "    <tr style=\"text-align: right;\">\n",
       "      <th></th>\n",
       "      <th>children</th>\n",
       "      <th>smoker</th>\n",
       "      <th>age</th>\n",
       "      <th>bmi</th>\n",
       "      <th>charges in INR</th>\n",
       "      <th>male</th>\n",
       "      <th>northwest</th>\n",
       "      <th>southeast</th>\n",
       "      <th>southwest</th>\n",
       "    </tr>\n",
       "  </thead>\n",
       "  <tbody>\n",
       "    <tr>\n",
       "      <th>0</th>\n",
       "      <td>0</td>\n",
       "      <td>0</td>\n",
       "      <td>23</td>\n",
       "      <td>34.4</td>\n",
       "      <td>1826.843</td>\n",
       "      <td>1</td>\n",
       "      <td>0</td>\n",
       "      <td>0</td>\n",
       "      <td>1</td>\n",
       "    </tr>\n",
       "    <tr>\n",
       "      <th>1</th>\n",
       "      <td>1</td>\n",
       "      <td>0</td>\n",
       "      <td>19</td>\n",
       "      <td>24.6</td>\n",
       "      <td>1837.237</td>\n",
       "      <td>1</td>\n",
       "      <td>0</td>\n",
       "      <td>0</td>\n",
       "      <td>1</td>\n",
       "    </tr>\n",
       "    <tr>\n",
       "      <th>2</th>\n",
       "      <td>0</td>\n",
       "      <td>0</td>\n",
       "      <td>56</td>\n",
       "      <td>40.3</td>\n",
       "      <td>10602.385</td>\n",
       "      <td>1</td>\n",
       "      <td>0</td>\n",
       "      <td>0</td>\n",
       "      <td>1</td>\n",
       "    </tr>\n",
       "    <tr>\n",
       "      <th>3</th>\n",
       "      <td>1</td>\n",
       "      <td>0</td>\n",
       "      <td>30</td>\n",
       "      <td>32.4</td>\n",
       "      <td>4149.736</td>\n",
       "      <td>0</td>\n",
       "      <td>0</td>\n",
       "      <td>0</td>\n",
       "      <td>1</td>\n",
       "    </tr>\n",
       "    <tr>\n",
       "      <th>4</th>\n",
       "      <td>5</td>\n",
       "      <td>0</td>\n",
       "      <td>19</td>\n",
       "      <td>28.6</td>\n",
       "      <td>4687.797</td>\n",
       "      <td>0</td>\n",
       "      <td>0</td>\n",
       "      <td>0</td>\n",
       "      <td>1</td>\n",
       "    </tr>\n",
       "  </tbody>\n",
       "</table>\n",
       "</div>"
      ],
      "text/plain": [
       "   children  smoker  age   bmi  charges in INR  male  northwest  southeast  \\\n",
       "0         0       0   23  34.4        1826.843     1          0          0   \n",
       "1         1       0   19  24.6        1837.237     1          0          0   \n",
       "2         0       0   56  40.3       10602.385     1          0          0   \n",
       "3         1       0   30  32.4        4149.736     0          0          0   \n",
       "4         5       0   19  28.6        4687.797     0          0          0   \n",
       "\n",
       "   southwest  \n",
       "0          1  \n",
       "1          1  \n",
       "2          1  \n",
       "3          1  \n",
       "4          1  "
      ]
     },
     "execution_count": 3,
     "metadata": {},
     "output_type": "execute_result"
    }
   ],
   "source": [
    "df.head()"
   ]
  },
  {
   "cell_type": "code",
   "execution_count": 4,
   "id": "36a6140c",
   "metadata": {},
   "outputs": [],
   "source": [
    "X=df.drop('charges in INR',axis=1)\n",
    "y=df['charges in INR']"
   ]
  },
  {
   "cell_type": "code",
   "execution_count": 5,
   "id": "19dca05b",
   "metadata": {},
   "outputs": [],
   "source": [
    "X_train,X_test,y_train,y_test=train_test_split(X,y,random_state=1,test_size=0.3)"
   ]
  },
  {
   "cell_type": "code",
   "execution_count": 6,
   "id": "574b4484",
   "metadata": {},
   "outputs": [],
   "source": [
    "model=Sequential([\n",
    "    Dense(3000,activation='relu',input_shape=(X_train.shape[1],)),\n",
    "    Dense(1000,activation='tanh'),\n",
    "    Dense(700,activation='relu'),\n",
    "    Dense(500,activation='sigmoid'),\n",
    "    Dense(300,activation='tanh'),\n",
    "    Dense(1,activation='relu')])"
   ]
  },
  {
   "cell_type": "code",
   "execution_count": 7,
   "id": "c35efc3e",
   "metadata": {},
   "outputs": [
    {
     "name": "stdout",
     "output_type": "stream",
     "text": [
      "Model: \"sequential\"\n",
      "_________________________________________________________________\n",
      " Layer (type)                Output Shape              Param #   \n",
      "=================================================================\n",
      " dense (Dense)               (None, 3000)              27000     \n",
      "                                                                 \n",
      " dense_1 (Dense)             (None, 1000)              3001000   \n",
      "                                                                 \n",
      " dense_2 (Dense)             (None, 700)               700700    \n",
      "                                                                 \n",
      " dense_3 (Dense)             (None, 500)               350500    \n",
      "                                                                 \n",
      " dense_4 (Dense)             (None, 300)               150300    \n",
      "                                                                 \n",
      " dense_5 (Dense)             (None, 1)                 301       \n",
      "                                                                 \n",
      "=================================================================\n",
      "Total params: 4,229,801\n",
      "Trainable params: 4,229,801\n",
      "Non-trainable params: 0\n",
      "_________________________________________________________________\n"
     ]
    }
   ],
   "source": [
    "model.summary()"
   ]
  },
  {
   "cell_type": "code",
   "execution_count": 8,
   "id": "ed601049",
   "metadata": {},
   "outputs": [],
   "source": [
    "model.compile(optimizer='Adam',loss='mse',metrics=['mse'])"
   ]
  },
  {
   "cell_type": "code",
   "execution_count": 9,
   "id": "bde1da47",
   "metadata": {},
   "outputs": [
    {
     "name": "stdout",
     "output_type": "stream",
     "text": [
      "Epoch 1/30\n",
      "19/19 [==============================] - 1s 43ms/step - loss: 318888000.0000 - mse: 318888000.0000 - val_loss: 329443936.0000 - val_mse: 329443936.0000\n",
      "Epoch 2/30\n",
      "19/19 [==============================] - 1s 30ms/step - loss: 318670976.0000 - mse: 318670976.0000 - val_loss: 329286304.0000 - val_mse: 329286304.0000\n",
      "Epoch 3/30\n",
      "19/19 [==============================] - 1s 30ms/step - loss: 318516992.0000 - mse: 318516992.0000 - val_loss: 329130752.0000 - val_mse: 329130752.0000\n",
      "Epoch 4/30\n",
      "19/19 [==============================] - 1s 31ms/step - loss: 318363808.0000 - mse: 318363808.0000 - val_loss: 328977664.0000 - val_mse: 328977664.0000\n",
      "Epoch 5/30\n",
      "19/19 [==============================] - 1s 32ms/step - loss: 318213472.0000 - mse: 318213472.0000 - val_loss: 328822048.0000 - val_mse: 328822048.0000\n",
      "Epoch 6/30\n",
      "19/19 [==============================] - 1s 36ms/step - loss: 318061088.0000 - mse: 318061088.0000 - val_loss: 328669632.0000 - val_mse: 328669632.0000\n",
      "Epoch 7/30\n",
      "19/19 [==============================] - 1s 30ms/step - loss: 317911136.0000 - mse: 317911136.0000 - val_loss: 328516192.0000 - val_mse: 328516192.0000\n",
      "Epoch 8/30\n",
      "19/19 [==============================] - 0s 26ms/step - loss: 317760448.0000 - mse: 317760448.0000 - val_loss: 328363712.0000 - val_mse: 328363712.0000\n",
      "Epoch 9/30\n",
      "19/19 [==============================] - 0s 26ms/step - loss: 317612928.0000 - mse: 317612928.0000 - val_loss: 328208064.0000 - val_mse: 328208064.0000\n",
      "Epoch 10/30\n",
      "19/19 [==============================] - 0s 26ms/step - loss: 317460736.0000 - mse: 317460736.0000 - val_loss: 328057792.0000 - val_mse: 328057792.0000\n",
      "Epoch 11/30\n",
      "19/19 [==============================] - 0s 26ms/step - loss: 317312672.0000 - mse: 317312672.0000 - val_loss: 327905408.0000 - val_mse: 327905408.0000\n",
      "Epoch 12/30\n",
      "19/19 [==============================] - 0s 26ms/step - loss: 317163008.0000 - mse: 317163008.0000 - val_loss: 327754784.0000 - val_mse: 327754784.0000\n",
      "Epoch 13/30\n",
      "19/19 [==============================] - 0s 25ms/step - loss: 317014496.0000 - mse: 317014496.0000 - val_loss: 327603584.0000 - val_mse: 327603584.0000\n",
      "Epoch 14/30\n",
      "19/19 [==============================] - 0s 26ms/step - loss: 316865920.0000 - mse: 316865920.0000 - val_loss: 327452448.0000 - val_mse: 327452480.0000\n",
      "Epoch 15/30\n",
      "19/19 [==============================] - 0s 25ms/step - loss: 316717696.0000 - mse: 316717696.0000 - val_loss: 327300960.0000 - val_mse: 327300960.0000\n",
      "Epoch 16/30\n",
      "19/19 [==============================] - 1s 31ms/step - loss: 316569440.0000 - mse: 316569440.0000 - val_loss: 327148544.0000 - val_mse: 327148544.0000\n",
      "Epoch 17/30\n",
      "19/19 [==============================] - 1s 31ms/step - loss: 316420032.0000 - mse: 316420032.0000 - val_loss: 326998368.0000 - val_mse: 326998368.0000\n",
      "Epoch 18/30\n",
      "19/19 [==============================] - 1s 35ms/step - loss: 316272320.0000 - mse: 316272320.0000 - val_loss: 326847072.0000 - val_mse: 326847072.0000\n",
      "Epoch 19/30\n",
      "19/19 [==============================] - 1s 36ms/step - loss: 316125344.0000 - mse: 316125344.0000 - val_loss: 326694304.0000 - val_mse: 326694304.0000\n",
      "Epoch 20/30\n",
      "19/19 [==============================] - 1s 36ms/step - loss: 315975744.0000 - mse: 315975776.0000 - val_loss: 326544896.0000 - val_mse: 326544896.0000\n",
      "Epoch 21/30\n",
      "19/19 [==============================] - 1s 46ms/step - loss: 315827648.0000 - mse: 315827648.0000 - val_loss: 326395904.0000 - val_mse: 326395904.0000\n",
      "Epoch 22/30\n",
      "19/19 [==============================] - 1s 42ms/step - loss: 315680864.0000 - mse: 315680864.0000 - val_loss: 326245280.0000 - val_mse: 326245280.0000\n",
      "Epoch 23/30\n",
      "19/19 [==============================] - 1s 35ms/step - loss: 315533472.0000 - mse: 315533472.0000 - val_loss: 326095104.0000 - val_mse: 326095104.0000\n",
      "Epoch 24/30\n",
      "19/19 [==============================] - 1s 41ms/step - loss: 315385376.0000 - mse: 315385376.0000 - val_loss: 325945216.0000 - val_mse: 325945216.0000\n",
      "Epoch 25/30\n",
      "19/19 [==============================] - 1s 41ms/step - loss: 315238272.0000 - mse: 315238272.0000 - val_loss: 325794848.0000 - val_mse: 325794848.0000\n",
      "Epoch 26/30\n",
      "19/19 [==============================] - 1s 34ms/step - loss: 315091840.0000 - mse: 315091840.0000 - val_loss: 325643360.0000 - val_mse: 325643360.0000\n",
      "Epoch 27/30\n",
      "19/19 [==============================] - 1s 33ms/step - loss: 314942432.0000 - mse: 314942432.0000 - val_loss: 325496224.0000 - val_mse: 325496224.0000\n",
      "Epoch 28/30\n",
      "19/19 [==============================] - 1s 33ms/step - loss: 314797920.0000 - mse: 314797920.0000 - val_loss: 325344288.0000 - val_mse: 325344288.0000\n",
      "Epoch 29/30\n",
      "19/19 [==============================] - 1s 32ms/step - loss: 314650304.0000 - mse: 314650304.0000 - val_loss: 325193600.0000 - val_mse: 325193600.0000\n",
      "Epoch 30/30\n",
      "19/19 [==============================] - 1s 31ms/step - loss: 314502688.0000 - mse: 314502688.0000 - val_loss: 325045024.0000 - val_mse: 325045024.0000\n"
     ]
    }
   ],
   "source": [
    "history=model.fit(X_train,y_train,batch_size=50,epochs=30,validation_data=(X_test,y_test))"
   ]
  },
  {
   "cell_type": "code",
   "execution_count": 10,
   "id": "e55facf7",
   "metadata": {},
   "outputs": [
    {
     "data": {
      "text/plain": [
       "array([17857.43542617, 17851.3578195 , 17847.04434914, 17842.75225407,\n",
       "       17838.53895363, 17834.26724034, 17830.0627032 , 17825.83653016,\n",
       "       17821.69823558, 17817.42787273, 17813.27235519, 17809.07094713,\n",
       "       17804.90089835, 17800.728075  , 17796.56416278, 17792.39837683,\n",
       "       17788.19923432, 17784.04678356, 17779.91406053, 17775.70746834,\n",
       "       17771.54039469, 17767.41016581, 17763.26186262, 17759.09276962,\n",
       "       17754.95063356, 17750.82645963, 17746.61748052, 17742.5454769 ,\n",
       "       17738.38504487, 17734.2236368 ])"
      ]
     },
     "execution_count": 10,
     "metadata": {},
     "output_type": "execute_result"
    }
   ],
   "source": [
    "np.sqrt(history.history['mse'])"
   ]
  },
  {
   "cell_type": "code",
   "execution_count": null,
   "id": "f218e5c6",
   "metadata": {},
   "outputs": [],
   "source": []
  }
 ],
 "metadata": {
  "kernelspec": {
   "display_name": "Python 3 (ipykernel)",
   "language": "python",
   "name": "python3"
  },
  "language_info": {
   "codemirror_mode": {
    "name": "ipython",
    "version": 3
   },
   "file_extension": ".py",
   "mimetype": "text/x-python",
   "name": "python",
   "nbconvert_exporter": "python",
   "pygments_lexer": "ipython3",
   "version": "3.9.12"
  }
 },
 "nbformat": 4,
 "nbformat_minor": 5
}
